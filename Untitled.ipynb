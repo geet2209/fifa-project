{
 "cells": [
  {
   "cell_type": "code",
   "execution_count": 1,
   "metadata": {},
   "outputs": [],
   "source": [
    "import numpy as np\n",
    "import pandas as pd\n",
    "import matplotlib.pyplot as plt\n",
    "import seaborn as sns\n",
    "from sklearn.linear_model import LinearRegression\n",
    "from sklearn.metrics import mean_absolute_error,mean_squared_error, r2_score\n",
    "from math import sqrt\n",
    "from sklearn.model_selection import train_test_split\n",
    "from sklearn.preprocessing import PolynomialFeatures"
   ]
  },
  {
   "cell_type": "markdown",
   "metadata": {},
   "source": [
    "Dataframe creation¶\n",
    "You can't do any analysis without data. In this task you will convert the available data to a dataframe taking only the required columns"
   ]
  },
  {
   "cell_type": "code",
   "execution_count": 2,
   "metadata": {},
   "outputs": [
    {
     "data": {
      "text/html": [
       "<div>\n",
       "<style scoped>\n",
       "    .dataframe tbody tr th:only-of-type {\n",
       "        vertical-align: middle;\n",
       "    }\n",
       "\n",
       "    .dataframe tbody tr th {\n",
       "        vertical-align: top;\n",
       "    }\n",
       "\n",
       "    .dataframe thead th {\n",
       "        text-align: right;\n",
       "    }\n",
       "</style>\n",
       "<table border=\"1\" class=\"dataframe\">\n",
       "  <thead>\n",
       "    <tr style=\"text-align: right;\">\n",
       "      <th></th>\n",
       "      <th>Name</th>\n",
       "      <th>Age</th>\n",
       "      <th>Nationality</th>\n",
       "      <th>Overall</th>\n",
       "      <th>Potential</th>\n",
       "      <th>Club</th>\n",
       "      <th>Value (M)</th>\n",
       "      <th>Position</th>\n",
       "      <th>Wage (M)</th>\n",
       "    </tr>\n",
       "  </thead>\n",
       "  <tbody>\n",
       "    <tr>\n",
       "      <th>0</th>\n",
       "      <td>F. Burdenski</td>\n",
       "      <td>25</td>\n",
       "      <td>Germany</td>\n",
       "      <td>54</td>\n",
       "      <td>58</td>\n",
       "      <td>Korona Kielce</td>\n",
       "      <td>0.07</td>\n",
       "      <td>CDM</td>\n",
       "      <td>0.001</td>\n",
       "    </tr>\n",
       "    <tr>\n",
       "      <th>1</th>\n",
       "      <td>A. Deiola</td>\n",
       "      <td>21</td>\n",
       "      <td>Italy</td>\n",
       "      <td>64</td>\n",
       "      <td>73</td>\n",
       "      <td>Cagliari</td>\n",
       "      <td>0.70</td>\n",
       "      <td>CM</td>\n",
       "      <td>0.010</td>\n",
       "    </tr>\n",
       "    <tr>\n",
       "      <th>2</th>\n",
       "      <td>T. Castagne</td>\n",
       "      <td>21</td>\n",
       "      <td>Belgium</td>\n",
       "      <td>72</td>\n",
       "      <td>79</td>\n",
       "      <td>Atalanta</td>\n",
       "      <td>3.70</td>\n",
       "      <td>RB</td>\n",
       "      <td>0.013</td>\n",
       "    </tr>\n",
       "    <tr>\n",
       "      <th>3</th>\n",
       "      <td>D. Gorman</td>\n",
       "      <td>21</td>\n",
       "      <td>Northern Ireland</td>\n",
       "      <td>57</td>\n",
       "      <td>66</td>\n",
       "      <td>Stevenage</td>\n",
       "      <td>0.16</td>\n",
       "      <td>CM</td>\n",
       "      <td>0.002</td>\n",
       "    </tr>\n",
       "    <tr>\n",
       "      <th>4</th>\n",
       "      <td>N. Molina Lucero</td>\n",
       "      <td>19</td>\n",
       "      <td>Argentina</td>\n",
       "      <td>63</td>\n",
       "      <td>75</td>\n",
       "      <td>Boca Juniors</td>\n",
       "      <td>0.55</td>\n",
       "      <td>LB</td>\n",
       "      <td>0.002</td>\n",
       "    </tr>\n",
       "  </tbody>\n",
       "</table>\n",
       "</div>"
      ],
      "text/plain": [
       "               Name  Age       Nationality  Overall  Potential           Club  \\\n",
       "0      F. Burdenski   25           Germany       54         58  Korona Kielce   \n",
       "1         A. Deiola   21             Italy       64         73       Cagliari   \n",
       "2       T. Castagne   21           Belgium       72         79       Atalanta   \n",
       "3         D. Gorman   21  Northern Ireland       57         66      Stevenage   \n",
       "4  N. Molina Lucero   19         Argentina       63         75   Boca Juniors   \n",
       "\n",
       "   Value (M) Position  Wage (M)  \n",
       "0       0.07      CDM     0.001  \n",
       "1       0.70       CM     0.010  \n",
       "2       3.70       RB     0.013  \n",
       "3       0.16       CM     0.002  \n",
       "4       0.55       LB     0.002  "
      ]
     },
     "execution_count": 2,
     "metadata": {},
     "output_type": "execute_result"
    }
   ],
   "source": [
    "df = pd.read_csv(r'D:\\Study_material\\GreyAtom\\projects\\fifa\\train.csv')\n",
    "df = df[['Name', 'Age', 'Nationality', 'Overall', 'Potential', 'Club', 'Value (M)', 'Position', 'Wage (M)']]\n",
    "df.head()"
   ]
  },
  {
   "cell_type": "markdown",
   "metadata": {},
   "source": [
    "Play with the data"
   ]
  },
  {
   "cell_type": "code",
   "execution_count": 3,
   "metadata": {},
   "outputs": [
    {
     "data": {
      "text/plain": [
       "<bound method Series.unique of 0        CDM\n",
       "1         CM\n",
       "2         RB\n",
       "3         CM\n",
       "4         LB\n",
       "        ... \n",
       "14379     LM\n",
       "14380     LM\n",
       "14381     RB\n",
       "14382     GK\n",
       "14383     ST\n",
       "Name: Position, Length: 14384, dtype: object>"
      ]
     },
     "execution_count": 3,
     "metadata": {},
     "output_type": "execute_result"
    }
   ],
   "source": [
    "df.Position.unique"
   ]
  },
  {
   "cell_type": "code",
   "execution_count": 4,
   "metadata": {},
   "outputs": [
    {
     "data": {
      "image/png": "[encoded data removed]",
      "text/plain": [
       "<Figure size 1152x576 with 1 Axes>"
      ]
     },
     "metadata": {
      "needs_background": "light"
     },
     "output_type": "display_data"
    },
    {
     "data": {
      "image/png": "[encoded data removed]",
      "text/plain": [
       "<Figure size 1152x576 with 1 Axes>"
      ]
     },
     "metadata": {
      "needs_background": "light"
     },
     "output_type": "display_data"
    },
    {
     "data": {
      "text/plain": [
       "<Figure size 432x288 with 0 Axes>"
      ]
     },
     "metadata": {},
     "output_type": "display_data"
    },
    {
     "data": {
      "image/png": "[encoded data removed]",
      "text/plain": [
       "<Figure size 1152x576 with 1 Axes>"
      ]
     },
     "metadata": {},
     "output_type": "display_data"
    }
   ],
   "source": [
    "# groups of player by there position\n",
    "plt.figure(figsize=(16,8))\n",
    "plt.title('Grouping players by Prefered Position', fontsize=18, fontweight='bold', y=1.05,)\n",
    "plt.xlabel('Number of players', fontsize=12)\n",
    "plt.ylabel('Players Age', fontsize=12)\n",
    "sns.countplot(x=\"Position\", data= df)\n",
    "\n",
    "# Wage distribution of top 100 players\n",
    "value_distribution_values = df.sort_values(\"Wage (M)\", ascending=False).reset_index().head(100)[[\"Name\", \"Wage (M)\"]]\n",
    "plt.figure(figsize=(16,8))\n",
    "plt.title('Top 100 Players Wage Distribution', fontsize=20, fontweight='bold')\n",
    "plt.ylabel('Player Wage [M€]', fontsize=15)\n",
    "sns.set_style(\"whitegrid\")\n",
    "plt.plot(value_distribution_values['Wage (M)'])\n",
    "    \n",
    "# Comparision graph of Overall vs values(M)\n",
    "overall = df.sort_values('Overall')['Overall'].unique()    \n",
    "overall_value = df.groupby(['Overall'])['Value (M)'].mean()\n",
    "    \n",
    "plt.figure()\n",
    "plt.figure(figsize=(16,8))\n",
    "plt.title('Overall vs Value', fontsize=20, fontweight='bold')\n",
    "plt.xlabel('Overall', fontsize=15)\n",
    "plt.ylabel('Value', fontsize=15)\n",
    "sns.set_style(\"whitegrid\")\n",
    "plt.plot(overall, overall_value, label=\"Values in [M€]\")\n",
    "plt.legend(loc=4, prop={'size': 15}, frameon=True,shadow=True, facecolor=\"white\", edgecolor=\"black\")\n",
    "\n",
    "plt.show()"
   ]
  },
  {
   "cell_type": "markdown",
   "metadata": {},
   "source": [
    "Finding the Best Squad¶\n",
    "You have analysed the market and decided that the market is fair with respect to players and their worth. Your club has asked you to buy best players of their respective playing position. Based on your tactical football mind, you have two gameplay position list,\n",
    "\n",
    "4-3-3 https://7500toholte.sbnation.com/2015/5/8/8566029/football-tactics-basics-the-4-3-3-formation-explained\n",
    "3-5-2 https://7500toholte.sbnation.com/2015/7/14/8933799/football-tactics-basics-the-3-5-2-formation-explained"
   ]
  },
  {
   "cell_type": "code",
   "execution_count": 5,
   "metadata": {},
   "outputs": [
    {
     "name": "stdout",
     "output_type": "stream",
     "text": [
      "   Position              Player Overall\n",
      "0        GK            M. Neuer      92\n",
      "1        LB             Marcelo      87\n",
      "2        CB            D. Godín      88\n",
      "3        CB            D. Godín      88\n",
      "4        RB            Carvajal      84\n",
      "5        LM                Isco      86\n",
      "6       CDM            T. Kroos      90\n",
      "7        RM          A. Sánchez      89\n",
      "8        LW        A. Griezmann      88\n",
      "9        ST   Cristiano Ronaldo      94\n",
      "10       RW            L. Messi      93\n",
      "['GK', 'LB', 'CB', 'CB', 'RB', 'LM', 'CDM', 'RM', 'LW', 'ST', 'RW']\n"
     ]
    }
   ],
   "source": [
    "p_list_1= ['GK', 'LB', 'CB', 'CB', 'RB', 'LM', 'CDM', 'RM', 'LW', 'ST', 'RW']\n",
    "\n",
    "p_list_2 = ['GK', 'LWB', 'CB', 'RWB', 'LM', 'CDM', 'CAM', 'CM', 'RM', 'LW', 'RW']\n",
    "\n",
    "    \n",
    "# p_list_1 stats\n",
    "df_copy = df.copy()\n",
    "store = []\n",
    "for i in p_list_1:\n",
    "    store.append([i,df_copy.loc[[df_copy[df_copy['Position'] == i]['Overall'].idxmax()]]['Name'].to_string(index=False), df_copy[df_copy['Position'] == i]['Overall'].max()])\n",
    "df_copy.drop(df_copy[df_copy['Position'] == i]['Overall'].idxmax(), inplace=True)\n",
    "# return store\n",
    "df1= pd.DataFrame(np.array(store).reshape(11, 3), columns=['Position', 'Player', 'Overall'])\n",
    "\n",
    "# p_list_2 stats\n",
    "df_copy = df.copy()\n",
    "store = []\n",
    "for i in p_list_2:\n",
    "    store.append([i,df_copy.loc[[df_copy[df_copy['Position'] == i]['Overall'].idxmax()]]['Name'].to_string(index=False), df_copy[df_copy['Position'] == i]['Overall'].max()])\n",
    "df_copy.drop(df_copy[df_copy['Position'] == i]['Overall'].idxmax(), inplace=True)\n",
    "\n",
    "# return store\n",
    "df2= pd.DataFrame(np.array(store).reshape(11, 3), columns=['Position', 'Player', 'Overall'])\n",
    "\n",
    "if df1['Overall'].mean() > df2['Overall'].mean():\n",
    "        print(df1)\n",
    "        print(p_list_1)\n",
    "else:\n",
    "    print(df2)\n",
    "    print(p_list_2)"
   ]
  },
  {
   "cell_type": "code",
   "execution_count": 15,
   "metadata": {},
   "outputs": [
    {
     "name": "stdout",
     "output_type": "stream",
     "text": [
      "(10068, 3)\n",
      "Mean Absolute Error:  1.3722911173047616\n",
      "R2 score:  0.713842516592576\n"
     ]
    }
   ],
   "source": [
    "# independent variables\n",
    "X = df[['Overall','Potential','Wage (M)']]\n",
    "\n",
    "# dependent variables\n",
    "y = df['Value (M)'].copy()\n",
    "\n",
    "# Split the dataset    \n",
    "X_train, X_test,y_train, y_test = train_test_split(X,y, test_size=0.3, random_state=0)\n",
    "print(X_train.shape)\n",
    "\n",
    "# Instantiate linear regression\n",
    "model = LinearRegression()\n",
    "\n",
    "# fit the model on training data\n",
    "model.fit(X_train,y_train)\n",
    "\n",
    "\n",
    "# make prediction\n",
    "y_pred = model.predict(X_test)\n",
    "\n",
    "# calculate the mean_absolute_error\n",
    "mae = mean_absolute_error(y_test, y_pred)\n",
    "print(\"Mean Absolute Error: \",mae)\n",
    "\n",
    "# calculate the r2 score\n",
    "r2 = r2_score(y_test, y_pred)\n",
    "print(\"R2 score: \",r2)"
   ]
  },
  {
   "cell_type": "code",
   "execution_count": 11,
   "metadata": {},
   "outputs": [
    {
     "name": "stdout",
     "output_type": "stream",
     "text": [
      "(10068, 20)\n",
      "Mean Absolute Error 0.510229816497038\n",
      "R2 score:  0.942451901926177\n"
     ]
    }
   ],
   "source": [
    "# Instantiate third degree polynomial features\n",
    "poly = PolynomialFeatures(degree=3)\n",
    "   \n",
    "# fit and transform polynomial features on X_train    \n",
    "X_train_2 = poly.fit_transform(X_train)\n",
    "print(X_train_2.shape)\n",
    "\n",
    "# instantiate Linear regression model\n",
    "model_2=LinearRegression()\n",
    "\n",
    "# fit the model \n",
    "model_2.fit(X_train_2,y_train)\n",
    "    \n",
    "# transform on x_test    \n",
    "X_test_2 = poly.transform(X_test)\n",
    "\n",
    "# predict the model performance\n",
    "y_pred_2=model.predict(X_test_2)\n",
    "    \n",
    "# Calculate the mean absolute error    \n",
    "mae= mean_absolute_error(y_test, y_pred_2)\n",
    "print(\"Mean Absolute Error\",mae)\n",
    "\n",
    "# calculate the r2 score\n",
    "r2= r2_score(y_test, y_pred_2)\n",
    "print(\"R2 score: \",r2)"
   ]
  },
  {
   "cell_type": "markdown",
   "metadata": {},
   "source": [
    "Now run the model on test data"
   ]
  },
  {
   "cell_type": "code",
   "execution_count": 19,
   "metadata": {},
   "outputs": [
    {
     "data": {
      "text/plain": [
       "(3597, 3)"
      ]
     },
     "execution_count": 19,
     "metadata": {},
     "output_type": "execute_result"
    }
   ],
   "source": [
    "df_2 = pd.read_csv(r'D:\\Study_material\\GreyAtom\\projects\\fifa\\test.csv')\n",
    "X_sample = df_2[['Overall','Potential','Wage (M)']]\n",
    "#df_test = df[['Name', 'Age', 'Nationality', 'Overall', 'Potential', 'Club', 'Position', 'Wage (M)']]\n",
    "X_sample.head()\n",
    "X_sample.shape"
   ]
  },
  {
   "cell_type": "code",
   "execution_count": 13,
   "metadata": {},
   "outputs": [
    {
     "data": {
      "text/plain": [
       "(14384, 20)"
      ]
     },
     "execution_count": 13,
     "metadata": {},
     "output_type": "execute_result"
    }
   ],
   "source": [
    "# independent variables\n",
    "poly = PolynomialFeatures(degree=3)\n",
    "   \n",
    "# fit and transform polynomial features on X_train    \n",
    "X_sample_2 = poly.fit_transform(X_sample)\n",
    "\n",
    "# dependent variables\n",
    "#y_sample = df['Value (M)'].copy()\n",
    "X_sample_2.shape"
   ]
  },
  {
   "cell_type": "code",
   "execution_count": 21,
   "metadata": {},
   "outputs": [],
   "source": [
    "y_pred_s = pd.DataFrame(model.predict(X_sample))\n",
    "#df_test['pred'] = pd.DataFrame(y_pred_s)\n",
    "\n",
    "y_pred_s.to_csv('abc_3.csv')\n",
    "\n",
    "#np.savetxt('D:\\Study_material\\GreyAtom\\projects\\fifa\\abc.csv',y_pred_s ,delimiter=',')"
   ]
  },
  {
   "cell_type": "code",
   "execution_count": null,
   "metadata": {},
   "outputs": [],
   "source": []
  }
 ],
 "metadata": {
  "kernelspec": {
   "display_name": "Python 3",
   "language": "python",
   "name": "python3"
  },
  "language_info": {
   "codemirror_mode": {
    "name": "ipython",
    "version": 3
   },
   "file_extension": ".py",
   "mimetype": "text/x-python",
   "name": "python",
   "nbconvert_exporter": "python",
   "pygments_lexer": "ipython3",
   "version": "3.8.3"
  }
 },
 "nbformat": 4,
 "nbformat_minor": 4
}
